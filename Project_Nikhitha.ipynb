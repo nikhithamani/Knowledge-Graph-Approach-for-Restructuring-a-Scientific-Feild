{
  "nbformat": 4,
  "nbformat_minor": 0,
  "metadata": {
    "colab": {
      "name": "Project_Nikhitha.ipynb",
      "provenance": [],
      "collapsed_sections": [],
      "authorship_tag": "ABX9TyOTPGx1qxhV34LDX1WkrwZ/",
      "include_colab_link": true
    },
    "kernelspec": {
      "name": "python3",
      "display_name": "Python 3"
    },
    "language_info": {
      "name": "python"
    }
  },
  "cells": [
    {
      "cell_type": "markdown",
      "metadata": {
        "id": "view-in-github",
        "colab_type": "text"
      },
      "source": [
        "<a href=\"https://colab.research.google.com/github/nikhithamani/Knowledge-Graph-Approach-for-Restructuring-a-Scientific-Feild/blob/main/Project_Nikhitha.ipynb\" target=\"_parent\"><img src=\"https://colab.research.google.com/assets/colab-badge.svg\" alt=\"Open In Colab\"/></a>"
      ]
    },
    {
      "cell_type": "markdown",
      "source": [
        "**A Knowledge graph Approach to structure Scientific field**"
      ],
      "metadata": {
        "id": "-kEb6sgO--27"
      }
    },
    {
      "cell_type": "markdown",
      "source": [
        "Step1 : Import Library files"
      ],
      "metadata": {
        "id": "TdMF7-bR_gS8"
      }
    },
    {
      "cell_type": "code",
      "execution_count": 3,
      "metadata": {
        "colab": {
          "base_uri": "https://localhost:8080/"
        },
        "id": "932m5DpG6OLZ",
        "outputId": "a11335f0-b66b-4bde-caee-fe7f0294c837"
      },
      "outputs": [
        {
          "output_type": "stream",
          "name": "stdout",
          "text": [
            "Drive already mounted at /content/gdrive; to attempt to forcibly remount, call drive.mount(\"/content/gdrive\", force_remount=True).\n"
          ]
        }
      ],
      "source": [
        "from google.colab import drive\n",
        "drive.mount('/content/gdrive')\n",
        "\n",
        "import pandas as pd"
      ]
    },
    {
      "cell_type": "markdown",
      "source": [
        "Step 2 : Sentence Segmentation"
      ],
      "metadata": {
        "id": "vwTyR8cv_ojN"
      }
    },
    {
      "cell_type": "code",
      "source": [
        "filepath = '/content/gdrive/MyDrive/project/X.txt'\n",
        "with open(filepath,'r') as f:\n",
        "  content = f.read().split(\".\")\n",
        "  df = pd.DataFrame()\n",
        "  df['sentences'] = content\n",
        "  # Converting to excel\n",
        "  df.to_excel('/content/gdrive/MyDrive/project/processed.xlsx', index = False)"
      ],
      "metadata": {
        "id": "MGCWdKLX6bwD"
      },
      "execution_count": 4,
      "outputs": []
    },
    {
      "cell_type": "code",
      "source": [
        ""
      ],
      "metadata": {
        "id": "XR6CmKLG8IJ9"
      },
      "execution_count": 4,
      "outputs": []
    },
    {
      "cell_type": "markdown",
      "source": [
        "Step 3 : Entities Extraction using spacy library"
      ],
      "metadata": {
        "id": "ukW2hJqS-_WO"
      }
    },
    {
      "cell_type": "code",
      "source": [
        "import spacy\n",
        "nlp = spacy.load('en_core_web_sm')\n",
        "\n",
        "doc = nlp(\"Phytoplasmas are insect vectored bacteria that cause disease in a wide range of plant species\")\n",
        "\n",
        "for tok in doc:\n",
        "  print(tok.text, \"...\", tok.dep_)"
      ],
      "metadata": {
        "colab": {
          "base_uri": "https://localhost:8080/"
        },
        "id": "7VpYYcrKBn9R",
        "outputId": "b8d51d6a-4958-4d7b-9069-34250dd1a035"
      },
      "execution_count": 5,
      "outputs": [
        {
          "output_type": "stream",
          "name": "stdout",
          "text": [
            "Phytoplasmas ... nsubj\n",
            "are ... ROOT\n",
            "insect ... nmod\n",
            "vectored ... amod\n",
            "bacteria ... attr\n",
            "that ... nsubj\n",
            "cause ... relcl\n",
            "disease ... dobj\n",
            "in ... prep\n",
            "a ... det\n",
            "wide ... amod\n",
            "range ... pobj\n",
            "of ... prep\n",
            "plant ... compound\n",
            "species ... pobj\n"
          ]
        }
      ]
    },
    {
      "cell_type": "markdown",
      "source": [
        "Step 4 : Extract Relations"
      ],
      "metadata": {
        "id": "llaa2bXFDLrh"
      }
    },
    {
      "cell_type": "code",
      "source": [
        "doc = nlp(\"Nagal won the first set\")\n",
        "\n",
        "for tok in doc:\n",
        "  print(tok.text, \"...\", tok.dep_)"
      ],
      "metadata": {
        "colab": {
          "base_uri": "https://localhost:8080/"
        },
        "id": "-16QBusyC1jc",
        "outputId": "37b4f554-91a5-4603-a6c6-3536a44d0d4f"
      },
      "execution_count": 6,
      "outputs": [
        {
          "output_type": "stream",
          "name": "stdout",
          "text": [
            "Nagal ... nsubj\n",
            "won ... ROOT\n",
            "the ... det\n",
            "first ... amod\n",
            "set ... dobj\n"
          ]
        }
      ]
    },
    {
      "cell_type": "markdown",
      "source": [
        "Step 5: Knowledge Graph Creation"
      ],
      "metadata": {
        "id": "rJAQA1RCENEz"
      }
    },
    {
      "cell_type": "markdown",
      "source": [
        "Import Libraries"
      ],
      "metadata": {
        "id": "1UUBIqrwEgqI"
      }
    },
    {
      "cell_type": "code",
      "source": [
        "import re\n",
        "import pandas as pd\n",
        "import bs4\n",
        "import requests\n",
        "import spacy\n",
        "from spacy import displacy\n",
        "nlp = spacy.load('en_core_web_sm')\n",
        "\n",
        "from spacy.matcher import Matcher \n",
        "from spacy.tokens import Span \n",
        "\n",
        "import networkx as nx\n",
        "\n",
        "import matplotlib.pyplot as plt\n",
        "from tqdm import tqdm\n",
        "\n",
        "pd.set_option('display.max_colwidth', 200)\n",
        "%matplotlib inline"
      ],
      "metadata": {
        "id": "0v2TVvooDpIF"
      },
      "execution_count": 7,
      "outputs": []
    },
    {
      "cell_type": "markdown",
      "source": [
        "Read Data"
      ],
      "metadata": {
        "id": "7DmbyLIHE4WV"
      }
    },
    {
      "cell_type": "code",
      "source": [
        "graph = pd.read_excel('/content/gdrive/MyDrive/project/processed.xlsx')\n",
        "graph.shape"
      ],
      "metadata": {
        "colab": {
          "base_uri": "https://localhost:8080/"
        },
        "id": "irtCjuCyEun0",
        "outputId": "c751b5c7-64b2-4b35-d4bc-09ec6f1e2093"
      },
      "execution_count": 8,
      "outputs": [
        {
          "output_type": "execute_result",
          "data": {
            "text/plain": [
              "(63834, 1)"
            ]
          },
          "metadata": {},
          "execution_count": 8
        }
      ]
    },
    {
      "cell_type": "code",
      "source": [
        "graph['sentences'].sample(5)"
      ],
      "metadata": {
        "colab": {
          "base_uri": "https://localhost:8080/"
        },
        "id": "0pysr1qCFQ7O",
        "outputId": "6c6a7d4f-1807-443f-b3ee-33c6bf0a3c62"
      },
      "execution_count": 9,
      "outputs": [
        {
          "output_type": "execute_result",
          "data": {
            "text/plain": [
              "37964                                                                                                                                         9%) for indications nonadherent to the guideline were discontinued\n",
              "60473    Conclusions: The results show that the translation of YP-CORE into Finnish has been successful, the YP-CORE has good psychometric properties, and the measure could be taken into wider use in clini...\n",
              "11116     Extensive research indicates that Wnt/beta-catenin signaling pathway, which plays a pivotal role in growth, development, and differentiation of hepatocellular carcinoma, is one of the major signa...\n",
              "12090     Liquid biopsies in the form of circulating tumor DNA and circulating tumor cells allow noninvasive longitudinal monitoring of the molecular landscape of an advanced tumor as it is being treated w...\n",
              "48608                                                                                                        Reprogrammed H376 (Rep-H376) did not show ESCs morphologies but grow with a disorganized morphology\n",
              "Name: sentences, dtype: object"
            ]
          },
          "metadata": {},
          "execution_count": 9
        }
      ]
    },
    {
      "cell_type": "markdown",
      "source": [
        "Entity Pairs Extraction"
      ],
      "metadata": {
        "id": "2PyUFna6GyB3"
      }
    },
    {
      "cell_type": "code",
      "source": [
        "def get_entities(sent):\n",
        "  ## chunk 1\n",
        "  ent1 = \"\"\n",
        "  ent2 = \"\"\n",
        "\n",
        "  prv_tok_dep = \"\"    # dependency tag of previous token in the sentence\n",
        "  prv_tok_text = \"\"   # previous token in the sentence\n",
        "\n",
        "  prefix = \"\"\n",
        "  modifier = \"\"\n",
        "\n",
        "  #############################################################\n",
        "  \n",
        "  for tok in nlp(sent):\n",
        "    ## chunk 2\n",
        "    # if token is a punctuation mark then move on to the next token\n",
        "    if tok.dep_ != \"punct\":\n",
        "      # check: token is a compound word or not\n",
        "      if tok.dep_ == \"compound\":\n",
        "        prefix = tok.text\n",
        "        # if the previous word was also a 'compound' then add the current word to it\n",
        "        if prv_tok_dep == \"compound\":\n",
        "          prefix = prv_tok_text + \" \"+ tok.text\n",
        "      \n",
        "      # check: token is a modifier or not\n",
        "      if tok.dep_.endswith(\"mod\") == True:\n",
        "        modifier = tok.text\n",
        "        # if the previous word was also a 'compound' then add the current word to it\n",
        "        if prv_tok_dep == \"compound\":\n",
        "          modifier = prv_tok_text + \" \"+ tok.text\n",
        "      \n",
        "      ## chunk 3\n",
        "      if tok.dep_.find(\"subj\") == True:\n",
        "        ent1 = modifier +\" \"+ prefix + \" \"+ tok.text\n",
        "        prefix = \"\"\n",
        "        modifier = \"\"\n",
        "        prv_tok_dep = \"\"\n",
        "        prv_tok_text = \"\"      \n",
        "\n",
        "      ## chunk 4\n",
        "      if tok.dep_.find(\"obj\") == True:\n",
        "        ent2 = modifier +\" \"+ prefix +\" \"+ tok.text\n",
        "        \n",
        "      ## chunk 5  \n",
        "      # update variables\n",
        "      prv_tok_dep = tok.dep_\n",
        "      prv_tok_text = tok.text\n",
        "  #############################################################\n",
        "\n",
        "  return [ent1.strip(), ent2.strip()]"
      ],
      "metadata": {
        "id": "dnLlt_YoGgtN"
      },
      "execution_count": 10,
      "outputs": []
    },
    {
      "cell_type": "code",
      "source": [
        "entity_pairs = []\n",
        "\n",
        "for i in tqdm(graph[\"sentences\"]):\n",
        "  entity_pairs.append(get_entities(i))"
      ],
      "metadata": {
        "colab": {
          "base_uri": "https://localhost:8080/"
        },
        "id": "X2MVZEqYHOvj",
        "outputId": "6e588b6b-91d6-458f-9e72-6bf9aa46e671"
      },
      "execution_count": 11,
      "outputs": [
        {
          "output_type": "stream",
          "name": "stderr",
          "text": [
            "100%|██████████| 63834/63834 [10:53<00:00, 97.61it/s] \n"
          ]
        }
      ]
    },
    {
      "cell_type": "code",
      "source": [
        "entity_pairs[20:30]"
      ],
      "metadata": {
        "colab": {
          "base_uri": "https://localhost:8080/"
        },
        "id": "nHTuyZicHra9",
        "outputId": "a89fd112-d66c-4aa5-ee32-5effa6643227"
      },
      "execution_count": 12,
      "outputs": [
        {
          "output_type": "execute_result",
          "data": {
            "text/plain": [
              "[['', ''],\n",
              " ['coli  strains', 'large -)-alpha scale'],\n",
              " ['universal  feature', 'intracellular strand RNA membranes'],\n",
              " ['CIRV ringspot replication', 'mitochondrial outer membrane'],\n",
              " ['product', 'plant mitochondrial cells'],\n",
              " ['Here yeast Saccharomyces cerevisiae', 'CIRV cell survival'],\n",
              " ['p36', 'cell growth rate'],\n",
              " ['p36', 'phosphatidylserine cell externalization'],\n",
              " ['tight  association', 'CIRV acid yeast'],\n",
              " ['work', 'molecular RNA viruses']]"
            ]
          },
          "metadata": {},
          "execution_count": 12
        }
      ]
    },
    {
      "cell_type": "markdown",
      "source": [
        "Relation / Predicate Extraction"
      ],
      "metadata": {
        "id": "f9bJO01WKvnH"
      }
    },
    {
      "cell_type": "code",
      "source": [
        "def get_relation(sent):\n",
        "\n",
        "  doc = nlp(sent)\n",
        "\n",
        "  # Matcher class object \n",
        "  matcher = Matcher(nlp.vocab)\n",
        "\n",
        "  #define the pattern \n",
        "  pattern = [{'DEP':'ROOT'}, \n",
        "            {'DEP':'prep','OP':\"?\"},\n",
        "            {'DEP':'agent','OP':\"?\"},  \n",
        "            {'POS':'ADJ','OP':\"?\"}] \n",
        "\n",
        "  matcher.add(\"matching_1\", None, pattern) \n",
        "\n",
        "  matches = matcher(doc)\n",
        "  k = len(matches) - 1\n",
        "\n",
        "  span = doc[matches[k][1]:matches[k][2]] \n",
        "\n",
        "  return(span.text)"
      ],
      "metadata": {
        "id": "IvfOTbwzKQdn"
      },
      "execution_count": 13,
      "outputs": []
    },
    {
      "cell_type": "code",
      "source": [
        "relations = [get_relation(i) for i in tqdm(graph['sentences'])]"
      ],
      "metadata": {
        "colab": {
          "base_uri": "https://localhost:8080/"
        },
        "id": "kT-b4yUILCD4",
        "outputId": "b95b8b77-12f3-401c-dfca-e5f031729c78"
      },
      "execution_count": 14,
      "outputs": [
        {
          "output_type": "stream",
          "name": "stderr",
          "text": [
            "100%|██████████| 63834/63834 [10:41<00:00, 99.44it/s]\n"
          ]
        }
      ]
    },
    {
      "cell_type": "code",
      "source": [
        "pd.Series(relations).value_counts()[:50]"
      ],
      "metadata": {
        "id": "ana65xekLWOg"
      },
      "execution_count": null,
      "outputs": []
    },
    {
      "cell_type": "markdown",
      "source": [
        "Build a Knowledge Graph"
      ],
      "metadata": {
        "id": "GUCYgi5-N7oV"
      }
    },
    {
      "cell_type": "code",
      "source": [
        "\n",
        "# extract subject\n",
        "source = [i[0] for i in entity_pairs[20:30]]\n",
        "\n",
        "# extract object\n",
        "target = [i[1] for i in entity_pairs[20:30]]\n",
        "\n",
        "\n",
        "kg_df = pd.DataFrame({'source':source, 'target':target, 'edge':relations[20:30]})"
      ],
      "metadata": {
        "id": "ubX5EyCSNyWv"
      },
      "execution_count": 19,
      "outputs": []
    },
    {
      "cell_type": "code",
      "source": [
        "# create a directed-graph from a dataframe\n",
        "G=nx.from_pandas_edgelist(kg_df, \"source\", \"target\", \n",
        "                          edge_attr=True, create_using=nx.MultiDiGraph())"
      ],
      "metadata": {
        "id": "rO09sm5pOEOC"
      },
      "execution_count": 20,
      "outputs": []
    },
    {
      "cell_type": "code",
      "source": [
        "plt.figure(figsize=(12,12))\n",
        "\n",
        "pos = nx.spring_layout(G)\n",
        "nx.draw(G, with_labels=True, node_color='skyblue', edge_cmap=plt.cm.Blues, pos = pos)\n",
        "plt.show()"
      ],
      "metadata": {
        "colab": {
          "base_uri": "https://localhost:8080/",
          "height": 895
        },
        "id": "2_EqOwXAOItK",
        "outputId": "c5f588ec-432a-4e43-c147-be1e184245d4"
      },
      "execution_count": 21,
      "outputs": [
        {
          "output_type": "display_data",
          "data": {
            "image/png": "[encoded data removed]",
            "text/plain": [
              "<Figure size 864x864 with 1 Axes>"
            ]
          },
          "metadata": {}
        }
      ]
    },
    {
      "cell_type": "code",
      "source": [
        ""
      ],
      "metadata": {
        "id": "zCJvu4BPOMHs"
      },
      "execution_count": null,
      "outputs": []
    }
  ]
}